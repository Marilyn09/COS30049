{
 "cells": [
  {
   "cell_type": "markdown",
   "id": "a59e714e",
   "metadata": {},
   "source": [
    "# COS30049 Assignment 2 - Group 8\n"
   ]
  },
  {
   "cell_type": "markdown",
   "id": "504d4b72",
   "metadata": {},
   "source": []
  }
 ],
 "metadata": {
  "kernelspec": {
   "display_name": ".venv",
   "language": "python",
   "name": "python3"
  },
  "language_info": {
   "name": "python",
   "version": "3.13.3"
  }
 },
 "nbformat": 4,
 "nbformat_minor": 5
}
