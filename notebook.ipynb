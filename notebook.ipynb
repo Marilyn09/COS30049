{
 "cells": [
  {
   "cell_type": "markdown",
   "id": "a59e714e",
   "metadata": {},
   "source": [
    "# COS30049 Assignment 2 - Group 8\n"
   ]
  },
  {
   "cell_type": "markdown",
   "id": "5cc2fb6c",
   "metadata": {},
   "source": [
    "## Data Processing\n",
    "### Importing requirements"
   ]
  },
  {
   "cell_type": "code",
   "execution_count": 42,
   "id": "504d4b72",
   "metadata": {},
   "outputs": [],
   "source": [
    "import pandas as pd\n",
    "import matplotlib.pyplot as plt"
   ]
  },
  {
   "cell_type": "markdown",
   "id": "12c1894f",
   "metadata": {},
   "source": [
    "### Loading the first dataset into a dataframe\n",
    "The first dataset we will be loading is the email dataset, this dataset is provided publicly on Kaggle but will require some cleaning and normalization before it can be used."
   ]
  },
  {
   "cell_type": "code",
   "execution_count": 43,
   "id": "e1118b79",
   "metadata": {},
   "outputs": [
    {
     "name": "stdout",
     "output_type": "stream",
     "text": [
      "<class 'pandas.core.frame.DataFrame'>\n",
      "Index: 6046 entries, 0 to 6045\n",
      "Data columns (total 2 columns):\n",
      " #   Column  Non-Null Count  Dtype \n",
      "---  ------  --------------  ----- \n",
      " 0   Body    6045 non-null   object\n",
      " 1   Label   6046 non-null   int64 \n",
      "dtypes: int64(1), object(1)\n",
      "memory usage: 141.7+ KB\n",
      "None\n",
      "                                                Body  Label\n",
      "0  \\nSave up to 70% on Life Insurance.\\nWhy Spend...      1\n",
      "1  1) Fight The Risk of Cancer!\\nhttp://www.adcli...      1\n",
      "2  1) Fight The Risk of Cancer!\\nhttp://www.adcli...      1\n",
      "3  ##############################################...      1\n",
      "4  I thought you might like these:\\n1) Slim Down ...      1\n"
     ]
    }
   ],
   "source": [
    "# Load the dataset into a dataframe\n",
    "email_df = pd.read_csv('datasets/completeSpamAssassin.csv', index_col=0)\n",
    "print(email_df.info())\n",
    "print(email_df.head())"
   ]
  },
  {
   "cell_type": "markdown",
   "id": "53dafab3",
   "metadata": {},
   "source": [
    "### Data Cleaning: Removing rows with missing values\n",
    "\n",
    "Based on the documentation provided with the dataset on Kaggle, 9% of rows have 'empty' as the 'Body' part of the row. This isn't going to be very helpful for our model training therefore we must remove these rows from the dataset."
   ]
  },
  {
   "cell_type": "code",
   "execution_count": 44,
   "id": "bdfdf4c3",
   "metadata": {},
   "outputs": [
    {
     "name": "stdout",
     "output_type": "stream",
     "text": [
      "5512\n"
     ]
    }
   ],
   "source": [
    "# Removal of the rows with 'empty' in the 'Body' column\n",
    "email_df = email_df[email_df['Body'] != 'empty']\n",
    "\n",
    "email_df = email_df.dropna()\n",
    "\n",
    "print(len(email_df))"
   ]
  },
  {
   "cell_type": "markdown",
   "id": "b22c6216",
   "metadata": {},
   "source": [
    "### Loading the second dataset into a new dataframe\n",
    "The second dataset which will be used is the spam SMS dataset also provided on Kaggle. This dataset appears to be clean already and ready to use apart from having a different way of identifying whether the message is spam or not. This dataset uses 'spam' and 'ham' to identify whether its spam or not as opposed to the first dataset using 1 and 0."
   ]
  },
  {
   "cell_type": "code",
   "execution_count": 45,
   "id": "7ca08269",
   "metadata": {},
   "outputs": [
    {
     "name": "stdout",
     "output_type": "stream",
     "text": [
      "<class 'pandas.core.frame.DataFrame'>\n",
      "RangeIndex: 5572 entries, 0 to 5571\n",
      "Data columns (total 5 columns):\n",
      " #   Column      Non-Null Count  Dtype \n",
      "---  ------      --------------  ----- \n",
      " 0   v1          5572 non-null   object\n",
      " 1   v2          5572 non-null   object\n",
      " 2   Unnamed: 2  50 non-null     object\n",
      " 3   Unnamed: 3  12 non-null     object\n",
      " 4   Unnamed: 4  6 non-null      object\n",
      "dtypes: object(5)\n",
      "memory usage: 217.8+ KB\n",
      "None\n",
      "     v1                                                 v2 Unnamed: 2  \\\n",
      "0   ham  Go until jurong point, crazy.. Available only ...        NaN   \n",
      "1   ham                      Ok lar... Joking wif u oni...        NaN   \n",
      "2  spam  Free entry in 2 a wkly comp to win FA Cup fina...        NaN   \n",
      "3   ham  U dun say so early hor... U c already then say...        NaN   \n",
      "4   ham  Nah I don't think he goes to usf, he lives aro...        NaN   \n",
      "\n",
      "  Unnamed: 3 Unnamed: 4  \n",
      "0        NaN        NaN  \n",
      "1        NaN        NaN  \n",
      "2        NaN        NaN  \n",
      "3        NaN        NaN  \n",
      "4        NaN        NaN  \n"
     ]
    }
   ],
   "source": [
    "# Loading the second dataset into a new dataframe\n",
    "sms_df = pd.read_csv('datasets/spam.csv', encoding='latin-1')\n",
    "print(sms_df.info())\n",
    "print(sms_df.head())"
   ]
  },
  {
   "cell_type": "code",
   "execution_count": 46,
   "id": "0fcca89e",
   "metadata": {},
   "outputs": [],
   "source": [
    "# Keep only the columns we need and rename them to match the first dataframe\n",
    "sms_df = sms_df[['v1', 'v2']]\n",
    "sms_df = sms_df.rename(columns={'v1': 'Label', 'v2': 'Body'})\n",
    "\n",
    "# Map 'spam' to 1 and 'ham' to 0\n",
    "sms_df['Label'] = sms_df['Label'].map({'spam': 1, 'ham': 0})"
   ]
  },
  {
   "cell_type": "markdown",
   "id": "92012f5e",
   "metadata": {},
   "source": [
    "### Joining the two dataframes together"
   ]
  },
  {
   "cell_type": "code",
   "execution_count": 47,
   "id": "61f147c8",
   "metadata": {},
   "outputs": [
    {
     "name": "stdout",
     "output_type": "stream",
     "text": [
      "<class 'pandas.core.frame.DataFrame'>\n",
      "RangeIndex: 11084 entries, 0 to 11083\n",
      "Data columns (total 2 columns):\n",
      " #   Column  Non-Null Count  Dtype \n",
      "---  ------  --------------  ----- \n",
      " 0   Body    11084 non-null  object\n",
      " 1   Label   11084 non-null  int64 \n",
      "dtypes: int64(1), object(1)\n",
      "memory usage: 173.3+ KB\n",
      "None\n",
      "                                                Body  Label\n",
      "0  \\nSave up to 70% on Life Insurance.\\nWhy Spend...      1\n",
      "1  1) Fight The Risk of Cancer!\\nhttp://www.adcli...      1\n",
      "2  1) Fight The Risk of Cancer!\\nhttp://www.adcli...      1\n",
      "3  ##############################################...      1\n",
      "4  I thought you might like these:\\n1) Slim Down ...      1\n"
     ]
    }
   ],
   "source": [
    "df = pd.concat([email_df, sms_df], ignore_index=True)\n",
    "\n",
    "print(df.info())\n",
    "print(df.head())"
   ]
  },
  {
   "cell_type": "markdown",
   "id": "94552688",
   "metadata": {},
   "source": [
    "## Data Analysis\n",
    "### Bar chart to visualise the number of spam messages vs non spam messages"
   ]
  },
  {
   "cell_type": "code",
   "execution_count": 48,
   "id": "4f5728a7",
   "metadata": {},
   "outputs": [
    {
     "data": {
      "image/png": "[encoded data removed]",
      "text/plain": [
       "<Figure size 640x480 with 1 Axes>"
      ]
     },
     "metadata": {},
     "output_type": "display_data"
    }
   ],
   "source": [
    "occurence_counts = df['Label'].value_counts()\n",
    "plt.bar(occurence_counts.index, occurence_counts.values)\n",
    "plt.xticks([0, 1], ['Not Spam', 'Spam'])\n",
    "plt.xlabel('Message Type')\n",
    "plt.ylabel('Number of Messages')\n",
    "plt.title('Number of Spam vs Not Spam Messages')\n",
    "plt.show()"
   ]
  }
 ],
 "metadata": {
  "kernelspec": {
   "display_name": ".venv",
   "language": "python",
   "name": "python3"
  },
  "language_info": {
   "codemirror_mode": {
    "name": "ipython",
    "version": 3
   },
   "file_extension": ".py",
   "mimetype": "text/x-python",
   "name": "python",
   "nbconvert_exporter": "python",
   "pygments_lexer": "ipython3",
   "version": "3.13.3"
  }
 },
 "nbformat": 4,
 "nbformat_minor": 5
}
