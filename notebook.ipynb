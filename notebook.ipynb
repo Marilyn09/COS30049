{
 "cells": [
  {
   "cell_type": "markdown",
   "id": "a59e714e",
   "metadata": {},
   "source": [
    "# COS30049 Assignment 2 - Group 8\n"
   ]
  },
  {
   "cell_type": "markdown",
   "id": "5cc2fb6c",
   "metadata": {},
   "source": [
    "## Data Processing\n",
    "### Importing requirements"
   ]
  },
  {
   "cell_type": "code",
   "execution_count": 80,
   "id": "504d4b72",
   "metadata": {},
   "outputs": [],
   "source": [
    "import pandas as pd\n",
    "import matplotlib.pyplot as plt\n",
    "import re\n",
    "from collections import Counter\n",
    "from sklearn.model_selection import train_test_split\n",
    "from sklearn.feature_extraction.text import TfidfVectorizer\n",
    "from sklearn.compose import ColumnTransformer\n",
    "from sklearn.preprocessing import FunctionTransformer, StandardScaler\n",
    "from sklearn.pipeline import Pipeline\n",
    "from sklearn.linear_model import LogisticRegression"
   ]
  },
  {
   "cell_type": "markdown",
   "id": "12c1894f",
   "metadata": {},
   "source": [
    "### Loading the first dataset into a dataframe\n",
    "The first dataset we will be loading is the email dataset, this dataset is provided publicly on Kaggle but will require some cleaning and normalization before it can be used."
   ]
  },
  {
   "cell_type": "code",
   "execution_count": 81,
   "id": "e1118b79",
   "metadata": {},
   "outputs": [],
   "source": [
    "# Load the dataset into a dataframe\n",
    "email_df = pd.read_csv('datasets/completeSpamAssassin.csv', index_col=0)"
   ]
  },
  {
   "cell_type": "markdown",
   "id": "53dafab3",
   "metadata": {},
   "source": [
    "### Data Cleaning: Removing rows with missing values\n",
    "\n",
    "Based on the documentation provided with the dataset on Kaggle, 9% of rows have 'empty' as the 'Body' part of the row. This isn't going to be very helpful for our model training therefore we must remove these rows from the dataset."
   ]
  },
  {
   "cell_type": "code",
   "execution_count": 82,
   "id": "bdfdf4c3",
   "metadata": {},
   "outputs": [
    {
     "name": "stdout",
     "output_type": "stream",
     "text": [
      "5512\n"
     ]
    }
   ],
   "source": [
    "# Removal of the rows with 'empty' in the 'Body' column\n",
    "email_df = email_df[email_df['Body'] != 'empty']\n",
    "\n",
    "email_df = email_df.dropna()\n",
    "\n",
    "print(len(email_df))"
   ]
  },
  {
   "cell_type": "markdown",
   "id": "85a38450",
   "metadata": {},
   "source": [
    "Instead of the label column being 1 for spam and 0 for ham, we'd like it to actually contain the words 'spam' and 'ham'"
   ]
  },
  {
   "cell_type": "code",
   "execution_count": 83,
   "id": "e5e20863",
   "metadata": {},
   "outputs": [],
   "source": [
    "\n",
    "# Map 'spam' to 1 and 'ham' to 0\n",
    "email_df['Label'] = email_df['Label'].map({1: 'spam', 0: 'ham'})"
   ]
  },
  {
   "cell_type": "markdown",
   "id": "b22c6216",
   "metadata": {},
   "source": [
    "### Loading the second dataset into a new dataframe\n",
    "The second dataset which will be used is the spam SMS dataset also provided on Kaggle. This dataset appears to be clean already and ready to use, te only change that needs to be made it changing the column names to match the first dataset, asewell as removing unused columns."
   ]
  },
  {
   "cell_type": "code",
   "execution_count": 84,
   "id": "7ca08269",
   "metadata": {},
   "outputs": [],
   "source": [
    "# Loading the second dataset into a new dataframe\n",
    "sms_df = pd.read_csv('datasets/spam.csv', encoding='latin-1')"
   ]
  },
  {
   "cell_type": "code",
   "execution_count": 85,
   "id": "0fcca89e",
   "metadata": {},
   "outputs": [],
   "source": [
    "# Keep only the columns we need and rename them to match the first dataframe\n",
    "sms_df = sms_df[['v1', 'v2']]\n",
    "sms_df = sms_df.rename(columns={'v1': 'Label', 'v2': 'Body'})"
   ]
  },
  {
   "cell_type": "markdown",
   "id": "92012f5e",
   "metadata": {},
   "source": [
    "### Joining the two dataframes together"
   ]
  },
  {
   "cell_type": "code",
   "execution_count": 86,
   "id": "61f147c8",
   "metadata": {},
   "outputs": [
    {
     "name": "stdout",
     "output_type": "stream",
     "text": [
      "<class 'pandas.core.frame.DataFrame'>\n",
      "RangeIndex: 11084 entries, 0 to 11083\n",
      "Data columns (total 2 columns):\n",
      " #   Column  Non-Null Count  Dtype \n",
      "---  ------  --------------  ----- \n",
      " 0   Body    11084 non-null  object\n",
      " 1   Label   11084 non-null  object\n",
      "dtypes: object(2)\n",
      "memory usage: 173.3+ KB\n",
      "None\n",
      "                                                Body Label\n",
      "0  \\nSave up to 70% on Life Insurance.\\nWhy Spend...  spam\n",
      "1  1) Fight The Risk of Cancer!\\nhttp://www.adcli...  spam\n",
      "2  1) Fight The Risk of Cancer!\\nhttp://www.adcli...  spam\n",
      "3  ##############################################...  spam\n",
      "4  I thought you might like these:\\n1) Slim Down ...  spam\n"
     ]
    }
   ],
   "source": [
    "df = pd.concat([email_df, sms_df], ignore_index=True)\n",
    "\n",
    "print(df.info())\n",
    "print(df.head())"
   ]
  },
  {
   "cell_type": "markdown",
   "id": "94552688",
   "metadata": {},
   "source": [
    "## Data Analysis\n",
    "### Bar chart to visualise the number of spam messages vs non spam messages"
   ]
  },
  {
   "cell_type": "code",
   "execution_count": 87,
   "id": "4f5728a7",
   "metadata": {},
   "outputs": [
    {
     "data": {
      "image/png": "[encoded data removed]",
      "text/plain": [
       "<Figure size 640x480 with 1 Axes>"
      ]
     },
     "metadata": {},
     "output_type": "display_data"
    }
   ],
   "source": [
    "occurence_counts = df['Label'].value_counts()\n",
    "plt.bar(occurence_counts.index, occurence_counts.values)\n",
    "plt.xticks([0, 1], ['Not Spam', 'Spam'])\n",
    "plt.xlabel('Message Type')\n",
    "plt.ylabel('Number of Messages')\n",
    "plt.title('Number of Spam vs Not Spam Messages')\n",
    "plt.show()"
   ]
  },
  {
   "cell_type": "markdown",
   "id": "85f5ec69",
   "metadata": {},
   "source": [
    "## Model Training\n",
    "\n",
    "### Classification"
   ]
  },
  {
   "cell_type": "code",
   "execution_count": 88,
   "id": "44fce7c5",
   "metadata": {},
   "outputs": [],
   "source": [
    "def add_features(df):\n",
    "    df = df.copy()\n",
    "    df['num_chars'] = df['Body'].str.len()\n",
    "    df['num_special_chars'] = df['Body'].str.count(r'[!@#$%^&*(),.?\":{}|<>]')\n",
    "    df['word_count'] = df['Body'].str.split().apply(len)\n",
    "    return df[['num_chars', 'num_special_chars', 'word_count']]"
   ]
  },
  {
   "cell_type": "code",
   "execution_count": 89,
   "id": "ed62ac0e",
   "metadata": {},
   "outputs": [],
   "source": [
    "X_train, X_test, y_train, y_test = train_test_split(df[['Body']], df['Label'], test_size=0.2, random_state=42)"
   ]
  },
  {
   "cell_type": "code",
   "execution_count": 90,
   "id": "4a75893d",
   "metadata": {},
   "outputs": [],
   "source": [
    "preprocessor = ColumnTransformer(\n",
    "    transformers=[\n",
    "        ('text', TfidfVectorizer(), 'Body'),  # text features\n",
    "        ('num', Pipeline([\n",
    "            ('features', FunctionTransformer(add_features, validate=False)),\n",
    "            ('scaler', StandardScaler())\n",
    "        ]), ['Body'])  # numeric features extracted from 'Body'\n",
    "    ]\n",
    ")"
   ]
  },
  {
   "cell_type": "code",
   "execution_count": 91,
   "id": "7561e4a8",
   "metadata": {},
   "outputs": [],
   "source": [
    "clf = Pipeline([\n",
    "    ('preprocessor', preprocessor),\n",
    "    ('classifier', LogisticRegression(max_iter=1000))\n",
    "])"
   ]
  },
  {
   "cell_type": "code",
   "execution_count": 92,
   "id": "c8a670e9",
   "metadata": {},
   "outputs": [
    {
     "name": "stdout",
     "output_type": "stream",
     "text": [
      "Training Accuracy: 0.9742866809518439\n",
      "Test Accuracy: 0.9675236806495264\n"
     ]
    }
   ],
   "source": [
    "# --- Train ---\n",
    "clf.fit(X_train, y_train)\n",
    "\n",
    "# --- Evaluate ---\n",
    "print(\"Training Accuracy:\", clf.score(X_train, y_train))\n",
    "print(\"Test Accuracy:\", clf.score(X_test, y_test))"
   ]
  },
  {
   "cell_type": "code",
   "execution_count": 93,
   "id": "0191fbc2",
   "metadata": {},
   "outputs": [
    {
     "data": {
      "image/png": "[encoded data removed]",
      "text/plain": [
       "<Figure size 640x480 with 2 Axes>"
      ]
     },
     "metadata": {},
     "output_type": "display_data"
    }
   ],
   "source": [
    "from sklearn.metrics import ConfusionMatrixDisplay, confusion_matrix\n",
    "\n",
    "# Predictions\n",
    "y_pred = clf.predict(X_test)\n",
    "\n",
    "# Confusion matrix\n",
    "cm = confusion_matrix(y_test, y_pred, labels=clf.classes_)\n",
    "\n",
    "disp = ConfusionMatrixDisplay(confusion_matrix=cm, display_labels=clf.classes_)\n",
    "disp.plot(cmap=plt.cm.Blues)\n",
    "plt.title(\"Confusion Matrix\")\n",
    "plt.show()\n"
   ]
  }
 ],
 "metadata": {
  "kernelspec": {
   "display_name": ".venv",
   "language": "python",
   "name": "python3"
  },
  "language_info": {
   "codemirror_mode": {
    "name": "ipython",
    "version": 3
   },
   "file_extension": ".py",
   "mimetype": "text/x-python",
   "name": "python",
   "nbconvert_exporter": "python",
   "pygments_lexer": "ipython3",
   "version": "3.13.3"
  }
 },
 "nbformat": 4,
 "nbformat_minor": 5
}
