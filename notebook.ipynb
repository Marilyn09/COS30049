{
 "cells": [
  {
   "cell_type": "markdown",
   "id": "a59e714e",
   "metadata": {},
   "source": [
    "# COS30049 Assignment 2 - Group 8\n"
   ]
  },
  {
   "cell_type": "markdown",
   "id": "5cc2fb6c",
   "metadata": {},
   "source": [
    "## Data Processing\n",
    "### Importing requirements"
   ]
  },
  {
   "cell_type": "code",
   "execution_count": 13,
   "id": "504d4b72",
   "metadata": {},
   "outputs": [],
   "source": [
    "import pandas as pd\n"
   ]
  },
  {
   "cell_type": "markdown",
   "id": "12c1894f",
   "metadata": {},
   "source": [
    "### Loading the first dataset into a dataframe\n",
    "The first dataset we will be loading is the email dataset, this dataset is provided publicly on Kaggle but will require some cleaning and normalization before it can be used."
   ]
  },
  {
   "cell_type": "code",
   "execution_count": 15,
   "id": "e1118b79",
   "metadata": {},
   "outputs": [
    {
     "name": "stdout",
     "output_type": "stream",
     "text": [
      "<class 'pandas.core.frame.DataFrame'>\n",
      "Index: 6046 entries, 0 to 6045\n",
      "Data columns (total 2 columns):\n",
      " #   Column  Non-Null Count  Dtype \n",
      "---  ------  --------------  ----- \n",
      " 0   Body    6045 non-null   object\n",
      " 1   Label   6046 non-null   int64 \n",
      "dtypes: int64(1), object(1)\n",
      "memory usage: 141.7+ KB\n",
      "None\n",
      "                                                Body  Label\n",
      "0  \\nSave up to 70% on Life Insurance.\\nWhy Spend...      1\n",
      "1  1) Fight The Risk of Cancer!\\nhttp://www.adcli...      1\n",
      "2  1) Fight The Risk of Cancer!\\nhttp://www.adcli...      1\n",
      "3  ##############################################...      1\n",
      "4  I thought you might like these:\\n1) Slim Down ...      1\n"
     ]
    }
   ],
   "source": [
    "# Load the dataset into a dataframe\n",
    "df = pd.read_csv('datasets/completeSpamAssassin.csv', index_col=0)\n",
    "print(df.info())\n",
    "print(df.head())"
   ]
  },
  {
   "cell_type": "markdown",
   "id": "53dafab3",
   "metadata": {},
   "source": [
    "### Data Cleaning: Removing rows with missing values\n",
    "\n",
    "Based on the documentation provided with the dataset on Kaggle, 9% of rows have 'empty' as the 'Body' part of the row. This isn't going to be very helpful for our model training therefore we must remove these rows from the dataset."
   ]
  },
  {
   "cell_type": "code",
   "execution_count": 16,
   "id": "bdfdf4c3",
   "metadata": {},
   "outputs": [
    {
     "name": "stdout",
     "output_type": "stream",
     "text": [
      "5513\n"
     ]
    }
   ],
   "source": [
    "# Removal of the rows with 'empty' in the 'Body' column\n",
    "df = df[df['Body'] != 'empty']\n",
    "\n",
    "print(len(df))"
   ]
  },
  {
   "cell_type": "markdown",
   "id": "b22c6216",
   "metadata": {},
   "source": [
    "### Loading the second dataset into a new dataframe\n",
    "The second dataset which will be used is the spam SMS dataset also provided on Kaggle. This dataset appears to be clean already and ready to use apart from having a different way of identifying whether the message is spam or not. This dataset uses 'spam' and 'ham' to identify whether its spam or not as opposed to the first dataset using 1 and 0."
   ]
  },
  {
   "cell_type": "code",
   "execution_count": null,
   "id": "7ca08269",
   "metadata": {},
   "outputs": [
    {
     "name": "stdout",
     "output_type": "stream",
     "text": [
      "                                                Body  Label\n",
      "0  \\nSave up to 70% on Life Insurance.\\nWhy Spend...      1\n",
      "1  1) Fight The Risk of Cancer!\\nhttp://www.adcli...      1\n",
      "2  1) Fight The Risk of Cancer!\\nhttp://www.adcli...      1\n",
      "3  ##############################################...      1\n",
      "4  I thought you might like these:\\n1) Slim Down ...      1\n"
     ]
    }
   ],
   "source": [
    "# Loading the second dataset into a new dataframe\n",
    "sms_df = pd.read_csv('datasets/spam.csv', encoding='latin-1')\n",
    "print(sms_df.head())\n",
    "sms_df = sms_df[['v1', 'v2']]\n",
    "print(df.head())"
   ]
  }
 ],
 "metadata": {
  "kernelspec": {
   "display_name": ".venv",
   "language": "python",
   "name": "python3"
  },
  "language_info": {
   "codemirror_mode": {
    "name": "ipython",
    "version": 3
   },
   "file_extension": ".py",
   "mimetype": "text/x-python",
   "name": "python",
   "nbconvert_exporter": "python",
   "pygments_lexer": "ipython3",
   "version": "3.13.3"
  }
 },
 "nbformat": 4,
 "nbformat_minor": 5
}
